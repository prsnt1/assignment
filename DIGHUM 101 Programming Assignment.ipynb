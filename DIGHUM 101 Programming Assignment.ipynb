{
 "cells": [
  {
   "cell_type": "markdown",
   "id": "33763e10-5da9-4302-bf60-aa2f86aede02",
   "metadata": {},
   "source": [
    "\n",
    "1. Store 3.5 in a variable called `my_float` and store 2 in a variable called `my_int`. Store the sum of `my_float` and `my_int` in the `total_value` variable. (2 points)"
   ]
  },
  {
   "cell_type": "code",
   "execution_count": null,
   "id": "0e6109d2-93d8-4dce-9c40-ee87292af303",
   "metadata": {},
   "outputs": [],
   "source": []
  },
  {
   "cell_type": "markdown",
   "id": "bf6ccc1c-3be3-4d09-8bd1-af7e2c394bc5",
   "metadata": {},
   "source": [
    "2. Write a Python function that takes a string as input and returns the number of characters in the string. (3 points)"
   ]
  },
  {
   "cell_type": "code",
   "execution_count": null,
   "id": "aa8c2671-eb64-4274-9a84-e898f6e412a1",
   "metadata": {},
   "outputs": [],
   "source": []
  },
  {
   "cell_type": "markdown",
   "id": "48d2b5b1-a751-4995-811a-8c8590711bf1",
   "metadata": {},
   "source": [
    "3. Create a list of your five favorite books in Python. Write Python code to print the first and last book in the list. (3 points)"
   ]
  },
  {
   "cell_type": "code",
   "execution_count": null,
   "id": "0c63682a-3eb4-44d8-af37-b19ddfe02818",
   "metadata": {},
   "outputs": [],
   "source": []
  },
  {
   "cell_type": "markdown",
   "id": "3d9b9185-b465-4ecd-b452-1389ae7de386",
   "metadata": {},
   "source": [
    "4. Create a dictionary where the keys are the names of three different countries and the values are their respective capitals. (3 points)"
   ]
  },
  {
   "cell_type": "code",
   "execution_count": null,
   "id": "f50b5266-677e-40c5-a5c2-37056f7371d2",
   "metadata": {},
   "outputs": [],
   "source": []
  },
  {
   "cell_type": "markdown",
   "id": "34be8827-88e2-40b8-bb0a-d0565486939d",
   "metadata": {},
   "source": [
    "\n",
    "\n",
    "5. Create a set of numbers from the following numbers using Python: 1, 2, 4, 2, 5, 1. (3 points)"
   ]
  },
  {
   "cell_type": "code",
   "execution_count": null,
   "id": "ec39c82e-cc20-4159-9913-1502fdecb2f8",
   "metadata": {},
   "outputs": [],
   "source": []
  },
  {
   "cell_type": "markdown",
   "id": "badab60d-25e6-48d1-9020-54fc3355f00e",
   "metadata": {},
   "source": [
    "6. Create a list of the first six whole numbers i.e. (0, 1, 2, 3, 4, 5). Then use a `for` loop to iterate through each number and print twice that number. Your output should be 0, 2, 4, 6, 8, 10. (3 points)"
   ]
  },
  {
   "cell_type": "code",
   "execution_count": null,
   "id": "ce222475-4c63-40db-8457-151eaeb67d58",
   "metadata": {},
   "outputs": [],
   "source": []
  },
  {
   "cell_type": "markdown",
   "id": "50a559e6-3195-44fb-8305-acb50dbbc8f6",
   "metadata": {},
   "source": [
    "7. You are provided with a dataframe called `df` below. Write Python code to return a subset of the DataFrame where the `Favorite Food` is `Momo`. Include only `Name`, `Favorite Food` and `City` columns in your output.(3 points)"
   ]
  },
  {
   "cell_type": "code",
   "execution_count": 9,
   "id": "d72c0eac-724a-47f9-9816-4468eef4cf0b",
   "metadata": {},
   "outputs": [
    {
     "data": {
      "text/html": [
       "<div>\n",
       "<style scoped>\n",
       "    .dataframe tbody tr th:only-of-type {\n",
       "        vertical-align: middle;\n",
       "    }\n",
       "\n",
       "    .dataframe tbody tr th {\n",
       "        vertical-align: top;\n",
       "    }\n",
       "\n",
       "    .dataframe thead th {\n",
       "        text-align: right;\n",
       "    }\n",
       "</style>\n",
       "<table border=\"1\" class=\"dataframe\">\n",
       "  <thead>\n",
       "    <tr style=\"text-align: right;\">\n",
       "      <th></th>\n",
       "      <th>Name</th>\n",
       "      <th>Favorite Food</th>\n",
       "      <th>Favorite Number</th>\n",
       "      <th>City</th>\n",
       "    </tr>\n",
       "  </thead>\n",
       "  <tbody>\n",
       "    <tr>\n",
       "      <th>0</th>\n",
       "      <td>Prashant</td>\n",
       "      <td>Chataamari</td>\n",
       "      <td>28</td>\n",
       "      <td>New York</td>\n",
       "    </tr>\n",
       "    <tr>\n",
       "      <th>1</th>\n",
       "      <td>Sirak</td>\n",
       "      <td>Momo</td>\n",
       "      <td>26</td>\n",
       "      <td>Los Angeles</td>\n",
       "    </tr>\n",
       "    <tr>\n",
       "      <th>2</th>\n",
       "      <td>Kirtika</td>\n",
       "      <td>Pizza</td>\n",
       "      <td>24</td>\n",
       "      <td>New York</td>\n",
       "    </tr>\n",
       "    <tr>\n",
       "      <th>3</th>\n",
       "      <td>Sushrey</td>\n",
       "      <td>Injera</td>\n",
       "      <td>30</td>\n",
       "      <td>Chicago</td>\n",
       "    </tr>\n",
       "    <tr>\n",
       "      <th>4</th>\n",
       "      <td>Rupesh</td>\n",
       "      <td>Momo</td>\n",
       "      <td>26</td>\n",
       "      <td>San Francisco</td>\n",
       "    </tr>\n",
       "  </tbody>\n",
       "</table>\n",
       "</div>"
      ],
      "text/plain": [
       "       Name Favorite Food  Favorite Number           City\n",
       "0  Prashant    Chataamari               28       New York\n",
       "1     Sirak          Momo               26    Los Angeles\n",
       "2   Kirtika         Pizza               24       New York\n",
       "3   Sushrey        Injera               30        Chicago\n",
       "4    Rupesh          Momo               26  San Francisco"
      ]
     },
     "execution_count": 9,
     "metadata": {},
     "output_type": "execute_result"
    }
   ],
   "source": [
    "import pandas as pd\n",
    "\n",
    "data = {\n",
    "    'Name': ['Prashant', 'Sirak', 'Kirtika', 'Sushrey', 'Rupesh'],\n",
    "    'Favorite Food': ['Chataamari', 'Momo', 'Pizza', 'Injera', 'Momo'],\n",
    "    'Favorite Number': [28, 26, 24, 30, 26],\n",
    "    'City': ['New York', 'Los Angeles', 'New York', 'Chicago', 'San Francisco']\n",
    "}\n",
    "\n",
    "df = pd.DataFrame(data)\n",
    "df"
   ]
  },
  {
   "cell_type": "code",
   "execution_count": null,
   "id": "a85b6edd-e601-410a-b58c-dcceec9fa78a",
   "metadata": {},
   "outputs": [],
   "source": []
  },
  {
   "cell_type": "markdown",
   "id": "5b3b9b6b-4513-4138-8eac-f805b5c124e1",
   "metadata": {},
   "source": [
    "8. Write a Python function that takes two parameters - `text` and `search_word`. It should return the number of times `search_word` appears in the text. Your search should not be case-sensitive. For example, if your text is \"It was the best of times. It was the worst of times.\" and your `search_word` is 'it', your function should return 2. (5 points)"
   ]
  },
  {
   "cell_type": "code",
   "execution_count": null,
   "id": "1b9eb23f-a514-49c0-a4a0-2d953ea6d9a5",
   "metadata": {},
   "outputs": [],
   "source": []
  },
  {
   "cell_type": "markdown",
   "id": "b8508931-4ed2-4a61-9477-5095eb4c4eef",
   "metadata": {},
   "source": [
    "9. Lemmatize the words in the sentence \"The striped bats are hanging on their feet for best\" and print the lemmas. (5 points)"
   ]
  },
  {
   "cell_type": "code",
   "execution_count": null,
   "id": "3d1c0140-73e6-4c77-9377-009ae2aef01c",
   "metadata": {},
   "outputs": [],
   "source": []
  },
  {
   "cell_type": "markdown",
   "id": "0da6bf61-4dc2-41b1-8a32-cb603ce088e2",
   "metadata": {},
   "source": [
    "\n",
    "\n",
    "10. Write a Python function that takes a string (`text`) as input. The function should lowercase the string, remove punctuation, tokenize, lemmatize, and remove stopwords. The function should return the lemmas present in the string. The returned lemmas should not contain any stopwords. (10 points)\n",
    "\n"
   ]
  },
  {
   "cell_type": "code",
   "execution_count": null,
   "id": "14274698-90f8-442a-bf29-170bf785835b",
   "metadata": {},
   "outputs": [],
   "source": []
  }
 ],
 "metadata": {
  "kernelspec": {
   "display_name": "Python 3 (ipykernel)",
   "language": "python",
   "name": "python3"
  },
  "language_info": {
   "codemirror_mode": {
    "name": "ipython",
    "version": 3
   },
   "file_extension": ".py",
   "mimetype": "text/x-python",
   "name": "python",
   "nbconvert_exporter": "python",
   "pygments_lexer": "ipython3",
   "version": "3.11.7"
  }
 },
 "nbformat": 4,
 "nbformat_minor": 5
}
